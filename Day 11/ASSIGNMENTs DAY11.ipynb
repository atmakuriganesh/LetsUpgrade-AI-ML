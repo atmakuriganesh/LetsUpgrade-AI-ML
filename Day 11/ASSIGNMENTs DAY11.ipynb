{
 "cells": [
  {
   "cell_type": "markdown",
   "metadata": {},
   "source": [
    "\"\"\"\n",
    "import pandas as pd\n",
    "dataset=pd.read_csv(\"general_data.csv\")\n",
    "print(dataset)\n",
    "dataset.head()\n",
    "dataset.tail()\n",
    "dataset[\"Attrition\"].replace(to_replace=(\"No\",\"Yes\"),value=(0,1),inplace=True)\n",
    "print(dataset)\n",
    "from scipy.stats import pearsonr\n",
    "stats,p=pearsonr(dataset.Attrition,dataset.Education)\n",
    "print(stats,p) #21\n",
    "#p value is greater than 0.05 it accepts\n",
    "\n",
    "stats,p=pearsonr(dataset.Attrition,dataset.DistanceFromHome)\n",
    "print(stats,p)\n",
    "#p value is greater than 0.05 so its accepts \n",
    "\n",
    "\n",
    "stats,p=pearsonr(dataset.Attrition,dataset.JobLevel)\n",
    "print(stats,p)\n",
    "#p value is greater than 0.05 so its accepts \n",
    "\n",
    "\n",
    "stats,p=pearsonr(dataset.Attrition,dataset.MonthlyIncome)\n",
    "print(stats,p)\n",
    "#p value is lesser than 0.05 so its rejects\n",
    "\n",
    "\n",
    " \n",
    "stats,p=pearsonr(dataset.Attrition,dataset.PercentSalaryHike)\n",
    "print(stats,p)\n",
    "#p value is lesser than 0.05 so its rejects\n",
    "\n",
    "\n",
    "\n",
    "stats,p=pearsonr(dataset.Attrition,dataset.YearsSinceLastPromotion)\n",
    "print(stats,p)\n",
    "#p value is lesser than 0.05 so its rejects\n",
    "\n",
    "\n",
    "#all the output values\n",
    "#-0.015111167710968711 0.3157293177118575\n",
    "#-0.00973014101017966 0.5182860428050771\n",
    "#-0.010289713287495035 0.49451717271828405\n",
    "#-0.031176281698115007 0.03842748490600132\n",
    "#0.03253259489105351 0.030743386433355353\n",
    "#-0.03301877514258434 0.028330336189396753\n",
    "\n",
    "\n",
    "\n",
    "\n",
    "from scipy.stats import wilcoxon\n",
    "stats,p=wilcoxon(dataset.Attrition,dataset.YearsSinceLastPromotion)\n",
    "print(stats,p)\n",
    "#p value is lesser than 0.05 so its rejects\n",
    "\n",
    "\n",
    "from scipy.stats import friedmanchisquare\n",
    "stats,p=friedmanchisquare(dataset.JobLevel,dataset.YearsSinceLastPromotion,dataset.PercentSalaryHike)\n",
    "print(stats,p)\n",
    "\n"
   ]
  },
  {
   "cell_type": "code",
   "execution_count": null,
   "metadata": {},
   "outputs": [],
   "source": []
  },
  {
   "cell_type": "code",
   "execution_count": null,
   "metadata": {},
   "outputs": [],
   "source": []
  },
  {
   "cell_type": "code",
   "execution_count": null,
   "metadata": {},
   "outputs": [],
   "source": []
  },
  {
   "cell_type": "code",
   "execution_count": null,
   "metadata": {},
   "outputs": [],
   "source": []
  },
  {
   "cell_type": "code",
   "execution_count": null,
   "metadata": {},
   "outputs": [],
   "source": []
  },
  {
   "cell_type": "code",
   "execution_count": null,
   "metadata": {},
   "outputs": [],
   "source": []
  },
  {
   "cell_type": "code",
   "execution_count": null,
   "metadata": {},
   "outputs": [],
   "source": []
  },
  {
   "cell_type": "code",
   "execution_count": null,
   "metadata": {},
   "outputs": [],
   "source": []
  },
  {
   "cell_type": "code",
   "execution_count": null,
   "metadata": {},
   "outputs": [],
   "source": []
  },
  {
   "cell_type": "code",
   "execution_count": null,
   "metadata": {},
   "outputs": [],
   "source": []
  },
  {
   "cell_type": "code",
   "execution_count": null,
   "metadata": {},
   "outputs": [],
   "source": []
  },
  {
   "cell_type": "code",
   "execution_count": null,
   "metadata": {},
   "outputs": [],
   "source": []
  }
 ],
 "metadata": {
  "kernelspec": {
   "display_name": "Python 3",
   "language": "python",
   "name": "python3"
  },
  "language_info": {
   "codemirror_mode": {
    "name": "ipython",
    "version": 3
   },
   "file_extension": ".py",
   "mimetype": "text/x-python",
   "name": "python",
   "nbconvert_exporter": "python",
   "pygments_lexer": "ipython3",
   "version": "3.7.6"
  }
 },
 "nbformat": 4,
 "nbformat_minor": 4
}
