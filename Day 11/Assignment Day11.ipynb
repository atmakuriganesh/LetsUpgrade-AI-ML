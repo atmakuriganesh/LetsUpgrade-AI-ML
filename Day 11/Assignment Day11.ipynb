# -*- coding: utf-8 -*-
"""
Spyder Editor

This is a temporary script file.
"""
import pandas as pd
dataset=pd.read_csv("general_data.csv")
print(dataset)
dataset.head()
dataset.tail()
dataset["Attrition"].replace(to_replace=("No","Yes"),value=(0,1),inplace=True)
print(dataset)
from scipy.stats import pearsonr
stats,p=pearsonr(dataset.Attrition,dataset.Education)
print(stats,p) #21
#p value is greater than 0.05 it accepts

stats,p=pearsonr(dataset.Attrition,dataset.DistanceFromHome)
print(stats,p)
#p value is greater than 0.05 so its accepts 


stats,p=pearsonr(dataset.Attrition,dataset.JobLevel)
print(stats,p)
#p value is greater than 0.05 so its accepts 


stats,p=pearsonr(dataset.Attrition,dataset.MonthlyIncome)
print(stats,p)
#p value is lesser than 0.05 so its rejects


 
stats,p=pearsonr(dataset.Attrition,dataset.PercentSalaryHike)
print(stats,p)
#p value is lesser than 0.05 so its rejects



stats,p=pearsonr(dataset.Attrition,dataset.YearsSinceLastPromotion)
print(stats,p)
#p value is lesser than 0.05 so its rejects


#all the output values
#-0.015111167710968711 0.3157293177118575
#-0.00973014101017966 0.5182860428050771
#-0.010289713287495035 0.49451717271828405
#-0.031176281698115007 0.03842748490600132
#0.03253259489105351 0.030743386433355353
#-0.03301877514258434 0.028330336189396753




from scipy.stats import wilcoxon
stats,p=wilcoxon(dataset.Attrition,dataset.YearsSinceLastPromotion)
print(stats,p)
#p value is lesser than 0.05 so its rejects


from scipy.stats import friedmanchisquare
stats,p=friedmanchisquare(dataset.JobLevel,dataset.YearsSinceLastPromotion,dataset.PercentSalaryHike)
print(stats,p)
