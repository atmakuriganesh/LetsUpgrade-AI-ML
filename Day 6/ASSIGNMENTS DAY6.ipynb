{
 "cells": [
  {
   "cell_type": "markdown",
   "metadata": {},
   "source": [
    "# Question 1\n"
   ]
  },
  {
   "cell_type": "markdown",
   "metadata": {},
   "source": [
    "Assuming that we have some email addresses in the \"username@companyname.com\" format, please write program\n",
    "to print the company name of a given email address. Both user names and company names are composed of letters\n",
    "only.\n"
   ]
  },
  {
   "cell_type": "code",
   "execution_count": 4,
   "metadata": {},
   "outputs": [
    {
     "name": "stdout",
     "output_type": "stream",
     "text": [
      "john@google.com\n",
      "google\n"
     ]
    }
   ],
   "source": [
    "ip=input()\n",
    "x=ip.index(\"@\")\n",
    "print(ip[x+1:len(ip)-4])\n"
   ]
  },
  {
   "cell_type": "code",
   "execution_count": null,
   "metadata": {},
   "outputs": [],
   "source": []
  },
  {
   "cell_type": "markdown",
   "metadata": {},
   "source": [
    "# Question 2"
   ]
  },
  {
   "cell_type": "markdown",
   "metadata": {},
   "source": [
    "Write a program that accepts a comma-separated sequence of words as input and prints the words in a comma\n",
    "separated sequence after sorting them alphabetically.\n"
   ]
  },
  {
   "cell_type": "code",
   "execution_count": 8,
   "metadata": {},
   "outputs": [
    {
     "name": "stdout",
     "output_type": "stream",
     "text": [
      "without,hello,bag,world\n",
      "bag,hello,without,world\n"
     ]
    }
   ],
   "source": [
    "y=input().split(\",\")\n",
    "y=sorted(y)\n",
    "print(\",\".join(y))\n",
    "\n",
    "    "
   ]
  },
  {
   "cell_type": "code",
   "execution_count": null,
   "metadata": {},
   "outputs": [],
   "source": []
  },
  {
   "cell_type": "markdown",
   "metadata": {},
   "source": [
    "# Question 3"
   ]
  },
  {
   "cell_type": "markdown",
   "metadata": {},
   "source": [
    "Create your own Jupyter Notebook for Sets.\n"
   ]
  },
  {
   "cell_type": "code",
   "execution_count": 26,
   "metadata": {},
   "outputs": [
    {
     "name": "stdout",
     "output_type": "stream",
     "text": [
      "{'print', 'cow', 4}\n",
      "print\n",
      "cow\n",
      "4\n",
      "True\n",
      "{'cow', 4, 'pen', 5, 'print', 'ghee'}\n",
      "6\n",
      "{4, 'pen', 5, 'print', 'ghee'}\n",
      "{'pen', 5, 'print', 'ghee'}\n",
      "{1, 2, 3, 4, 5, 6}\n",
      "{1, 2, 3, 4, 5, 6}\n"
     ]
    }
   ],
   "source": [
    "#A set is a collection which is unordered and unindexed. In Python sets are written with curly brackets.\n",
    "\n",
    "#Example\n",
    "#Create a Set:\n",
    "\n",
    "sets = {\"cow\" , 4 , \"print\"}\n",
    "print(sets)\n",
    "\n",
    "#You cannot access items in a set by referring to an index, since sets are unordered the items has no index.\n",
    "#But you can loop through the set items using a for loop, or ask if a specified value is present in a set, by using the in keyword.\n",
    "\n",
    "#Example\n",
    "sets = {\"cow\" , 4 , \"print\"}\n",
    "for x in sets:\n",
    "    print(x)\n",
    "print(\"cow\" in sets)\n",
    "\n",
    "#To add one item to a set use the add() method.\n",
    "#To add more than one item to a set use the update() method. \n",
    "sets = {\"cow\", 4, \"print\"}\n",
    "sets.add(\"ghee\")\n",
    "sets.update([\"pen\",5])\n",
    "print(sets)\n",
    "\n",
    "#To determine how many items a set has, use the len() method\n",
    "print(len(sets))\n",
    "\n",
    "#To remove an item in a set, use the remove(), or the discard() method.\n",
    "sets.remove(\"cow\")\n",
    "print(sets)\n",
    "\n",
    "#You can also use the pop(), method to remove an item, but this method will remove the last item. Remember that sets are unordered, so you will not know what item that gets removed.\n",
    "#The return value of the pop() method is the removed item.\n",
    "sets.pop()\n",
    "print(sets)\n",
    "\n",
    "#The union() method returns a new set with all items from both sets:\n",
    "set1 = {1,2,3}\n",
    "set2 = {4,5,6}\n",
    "set3 = set1.union(set2)\n",
    "print(set3)\n",
    "\n",
    "#The update() method inserts the items in set2 into set1:\n",
    "set1 = {1,2,3}\n",
    "set2 = {4,5,6}\n",
    "set1.update(set2)\n",
    "print(set1)\n",
    "\n",
    "\n"
   ]
  },
  {
   "cell_type": "code",
   "execution_count": null,
   "metadata": {},
   "outputs": [],
   "source": []
  },
  {
   "cell_type": "markdown",
   "metadata": {},
   "source": [
    "# Question 4"
   ]
  },
  {
   "cell_type": "markdown",
   "metadata": {},
   "source": [
    "Given a list of n-1 numbers ranging from 1 to n, your task is to find the missing number. There are no duplicates.\n",
    "\n"
   ]
  },
  {
   "cell_type": "code",
   "execution_count": 28,
   "metadata": {},
   "outputs": [
    {
     "name": "stdout",
     "output_type": "stream",
     "text": [
      "5\n"
     ]
    }
   ],
   "source": [
    "def getMissingNo(A): \n",
    "    n = len(A) \n",
    "    total = (n + 1)*(n + 2)/2\n",
    "    sum_of_A = sum(A) \n",
    "    return total - sum_of_A \n",
    "\n",
    "A = [1, 2, 4, 6, 3, 7, 8 ] \n",
    "miss = getMissingNo(A) \n",
    "print(int(miss)) \n",
    "\n"
   ]
  },
  {
   "cell_type": "code",
   "execution_count": null,
   "metadata": {},
   "outputs": [],
   "source": []
  },
  {
   "cell_type": "markdown",
   "metadata": {},
   "source": [
    "# Question 5"
   ]
  },
  {
   "cell_type": "markdown",
   "metadata": {},
   "source": [
    "With a given list L, write a program to print this list L after removing all duplicate values with original order reserved."
   ]
  },
  {
   "cell_type": "code",
   "execution_count": 29,
   "metadata": {},
   "outputs": [
    {
     "name": "stdout",
     "output_type": "stream",
     "text": [
      "[12, 24, 35]\n"
     ]
    }
   ],
   "source": [
    "def Remove(duplicate): \n",
    "    final_list = [] \n",
    "    for num in duplicate: \n",
    "        if num not in final_list: \n",
    "            final_list.append(num) \n",
    "    return final_list \n",
    "\n",
    " \n",
    "duplicate = [12, 24, 35, 24] \n",
    "print(Remove(duplicate)) \n"
   ]
  },
  {
   "cell_type": "code",
   "execution_count": null,
   "metadata": {},
   "outputs": [],
   "source": []
  }
 ],
 "metadata": {
  "kernelspec": {
   "display_name": "Python 3",
   "language": "python",
   "name": "python3"
  },
  "language_info": {
   "codemirror_mode": {
    "name": "ipython",
    "version": 3
   },
   "file_extension": ".py",
   "mimetype": "text/x-python",
   "name": "python",
   "nbconvert_exporter": "python",
   "pygments_lexer": "ipython3",
   "version": "3.7.6"
  }
 },
 "nbformat": 4,
 "nbformat_minor": 4
}
